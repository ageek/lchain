{
 "cells": [
  {
   "cell_type": "code",
   "execution_count": 1,
   "id": "f8ae1739",
   "metadata": {},
   "outputs": [],
   "source": [
    "import os\n",
    "from dotenv import load_dotenv"
   ]
  },
  {
   "cell_type": "code",
   "execution_count": 2,
   "id": "c71f18fe",
   "metadata": {},
   "outputs": [
    {
     "data": {
      "text/plain": [
       "True"
      ]
     },
     "execution_count": 2,
     "metadata": {},
     "output_type": "execute_result"
    }
   ],
   "source": [
    "load_dotenv(\"/home/tom/two/envapi/my-env\")"
   ]
  },
  {
   "cell_type": "code",
   "execution_count": null,
   "id": "cb3eca84",
   "metadata": {},
   "outputs": [],
   "source": []
  },
  {
   "cell_type": "code",
   "execution_count": null,
   "id": "3dc6eb69",
   "metadata": {},
   "outputs": [],
   "source": []
  },
  {
   "cell_type": "code",
   "execution_count": 3,
   "id": "a80840f4",
   "metadata": {},
   "outputs": [],
   "source": [
    "from langchain.chat_models import ChatOpenAI\n",
    "from langchain.prompts.chat import ChatPromptTemplate\n",
    "from langchain.schema import BaseOutputParser"
   ]
  },
  {
   "cell_type": "code",
   "execution_count": 4,
   "id": "124e7221",
   "metadata": {},
   "outputs": [],
   "source": [
    "class CSVParser(BaseOutputParser):\n",
    "    def parse(self, text: str):\n",
    "        return text.strip().split(\", \")"
   ]
  },
  {
   "cell_type": "code",
   "execution_count": 5,
   "id": "4fb6fb4c",
   "metadata": {},
   "outputs": [],
   "source": [
    "template = \"\"\"You are a helpful Assistant who generates comma separated list. A user will pass in a category  and \n",
    "you should generate 3 different objects in that category. ONLY return command separeted list\"\"\""
   ]
  },
  {
   "cell_type": "code",
   "execution_count": 6,
   "id": "da886cfa",
   "metadata": {},
   "outputs": [],
   "source": [
    "human_template = \"{text}\""
   ]
  },
  {
   "cell_type": "code",
   "execution_count": 14,
   "id": "11d0c2d6",
   "metadata": {},
   "outputs": [
    {
     "ename": "TypeError",
     "evalue": "Serializable.__init__() takes 1 positional argument but 2 were given",
     "output_type": "error",
     "traceback": [
      "\u001b[0;31m---------------------------------------------------------------------------\u001b[0m",
      "\u001b[0;31mTypeError\u001b[0m                                 Traceback (most recent call last)",
      "Cell \u001b[0;32mIn[14], line 1\u001b[0m\n\u001b[0;32m----> 1\u001b[0m chat_prompt \u001b[38;5;241m=\u001b[39m \u001b[43mChatPromptTemplate\u001b[49m\u001b[43m(\u001b[49m\u001b[43m[\u001b[49m\n\u001b[1;32m      2\u001b[0m \u001b[43m    \u001b[49m\u001b[43m(\u001b[49m\u001b[38;5;124;43m\"\u001b[39;49m\u001b[38;5;124;43msystem\u001b[39;49m\u001b[38;5;124;43m\"\u001b[39;49m\u001b[43m,\u001b[49m\u001b[43m \u001b[49m\u001b[43mtemplate\u001b[49m\u001b[43m)\u001b[49m\u001b[43m,\u001b[49m\n\u001b[1;32m      3\u001b[0m \u001b[43m    \u001b[49m\u001b[43m(\u001b[49m\u001b[38;5;124;43m\"\u001b[39;49m\u001b[38;5;124;43mhuman\u001b[39;49m\u001b[38;5;124;43m\"\u001b[39;49m\u001b[43m \u001b[49m\u001b[43m,\u001b[49m\u001b[43mhuman_template\u001b[49m\u001b[43m)\u001b[49m\u001b[43m,\u001b[49m\n\u001b[1;32m      4\u001b[0m \u001b[43m]\u001b[49m\u001b[43m)\u001b[49m\n\u001b[1;32m      6\u001b[0m chain \u001b[38;5;241m=\u001b[39m chat_prompt \u001b[38;5;241m|\u001b[39m ChatOpenAI() \u001b[38;5;241m|\u001b[39m CSVParser()\n\u001b[1;32m      7\u001b[0m chain\u001b[38;5;241m.\u001b[39minvoke({\u001b[38;5;124m\"\u001b[39m\u001b[38;5;124mtext\u001b[39m\u001b[38;5;124m\"\u001b[39m:\u001b[38;5;124m\"\u001b[39m\u001b[38;5;124mcolors in the flag of India\u001b[39m\u001b[38;5;124m\"\u001b[39m})\n",
      "\u001b[0;31mTypeError\u001b[0m: Serializable.__init__() takes 1 positional argument but 2 were given"
     ]
    }
   ],
   "source": [
    "chat_prompt = ChatPromptTemplate([\n",
    "    (\"system\", template),\n",
    "    (\"human\" ,human_template),\n",
    "])\n",
    "\n",
    "chain = chat_prompt | ChatOpenAI() | CSVParser()\n",
    "chain.invoke({\"text\":\"colors in the flag of India\"})"
   ]
  },
  {
   "cell_type": "code",
   "execution_count": 11,
   "id": "c4369c55",
   "metadata": {},
   "outputs": [
    {
     "ename": "NameError",
     "evalue": "name 'chat_prompt' is not defined",
     "output_type": "error",
     "traceback": [
      "\u001b[0;31m---------------------------------------------------------------------------\u001b[0m",
      "\u001b[0;31mNameError\u001b[0m                                 Traceback (most recent call last)",
      "Cell \u001b[0;32mIn[11], line 10\u001b[0m\n\u001b[1;32m      3\u001b[0m \u001b[38;5;28;01mfrom\u001b[39;00m \u001b[38;5;21;01mlangchain\u001b[39;00m\u001b[38;5;21;01m.\u001b[39;00m\u001b[38;5;21;01mchains\u001b[39;00m \u001b[38;5;28;01mimport\u001b[39;00m LLMChain\n\u001b[1;32m      5\u001b[0m llm \u001b[38;5;241m=\u001b[39m OpenAI(\n\u001b[1;32m      6\u001b[0m     temperature\u001b[38;5;241m=\u001b[39m\u001b[38;5;241m0.9\u001b[39m\n\u001b[1;32m      7\u001b[0m )\n\u001b[1;32m      8\u001b[0m chain \u001b[38;5;241m=\u001b[39m LLMChain(\n\u001b[1;32m      9\u001b[0m     llm\u001b[38;5;241m=\u001b[39mllm, \n\u001b[0;32m---> 10\u001b[0m     prompt\u001b[38;5;241m=\u001b[39m\u001b[43mchat_prompt\u001b[49m,\n\u001b[1;32m     11\u001b[0m )\n",
      "\u001b[0;31mNameError\u001b[0m: name 'chat_prompt' is not defined"
     ]
    }
   ],
   "source": [
    "#using old style\n",
    "from langchain.llms import OpenAI\n",
    "from langchain.chains import LLMChain\n",
    "\n",
    "\n",
    "llm = OpenAI(\n",
    "    temperature=0.9\n",
    ")\n",
    "chain = LLMChain(\n",
    "    llm=llm, \n",
    "    prompt=chat_prompt,\n",
    ")"
   ]
  },
  {
   "cell_type": "code",
   "execution_count": null,
   "id": "1c54b587",
   "metadata": {},
   "outputs": [],
   "source": [
    "#template for the system message prompt\n",
    "\n",
    "    template= '''\n",
    "              You are a helpful assistant who can answer question from Youtube videos based on the video's transcript: {docs}\n",
    "\n",
    "              Only use the factual information from transcript to answer the question.\n",
    "\n",
    "              If you feel like you don't have enough information to answer the question, say: \"Sorry, I cannot answer that\".\n",
    "\n",
    "              Your answer should be verbose and detailed.\n",
    "\n",
    "              '''\n",
    "    \n",
    "    system_message_prompt= SystemMessagePromptTemplate.from_template(template)\n",
    "\n",
    "    #Human question prompt\n",
    "\n",
    "    human_template= 'Answer the following question: {question}'\n",
    "\n",
    "    human_message_prompt= HumanMessagePromptTemplate.from_template(human_template)\n",
    "\n",
    "    chat_prompt= ChatPromptTemplate.from_messages(\n",
    "        [system_message_prompt, human_message_prompt]\n",
    "\n",
    "    )\n",
    "\n"
   ]
  }
 ],
 "metadata": {
  "kernelspec": {
   "display_name": "Python 3 (ipykernel)",
   "language": "python",
   "name": "python3"
  },
  "language_info": {
   "codemirror_mode": {
    "name": "ipython",
    "version": 3
   },
   "file_extension": ".py",
   "mimetype": "text/x-python",
   "name": "python",
   "nbconvert_exporter": "python",
   "pygments_lexer": "ipython3",
   "version": "3.10.12"
  }
 },
 "nbformat": 4,
 "nbformat_minor": 5
}
