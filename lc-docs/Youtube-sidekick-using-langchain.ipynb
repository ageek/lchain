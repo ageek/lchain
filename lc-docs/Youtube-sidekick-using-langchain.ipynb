{
 "cells": [
  {
   "cell_type": "code",
   "execution_count": 1,
   "id": "44c957de",
   "metadata": {},
   "outputs": [],
   "source": [
    "#https://medium.com/international-school-of-ai-data-science/create-your-very-own-youtube-sidekick-using-langchain-ef3ab9d2f7ca"
   ]
  },
  {
   "cell_type": "code",
   "execution_count": null,
   "id": "d30a4f65",
   "metadata": {},
   "outputs": [],
   "source": []
  }
 ],
 "metadata": {
  "kernelspec": {
   "display_name": "Python 3 (ipykernel)",
   "language": "python",
   "name": "python3"
  },
  "language_info": {
   "codemirror_mode": {
    "name": "ipython",
    "version": 3
   },
   "file_extension": ".py",
   "mimetype": "text/x-python",
   "name": "python",
   "nbconvert_exporter": "python",
   "pygments_lexer": "ipython3",
   "version": "3.10.12"
  }
 },
 "nbformat": 4,
 "nbformat_minor": 5
}
