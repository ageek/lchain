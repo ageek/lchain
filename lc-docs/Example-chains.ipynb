{
 "cells": [
  {
   "cell_type": "code",
   "execution_count": 1,
   "id": "b2824166",
   "metadata": {},
   "outputs": [],
   "source": [
    "#https://medium.com/international-school-of-ai-data-science/breaking-down-the-langchain-a4a992cc54ff"
   ]
  },
  {
   "cell_type": "code",
   "execution_count": null,
   "id": "80e170f2",
   "metadata": {},
   "outputs": [],
   "source": []
  },
  {
   "cell_type": "code",
   "execution_count": null,
   "id": "b4c60530",
   "metadata": {},
   "outputs": [],
   "source": []
  },
  {
   "cell_type": "code",
   "execution_count": 2,
   "id": "871979df",
   "metadata": {},
   "outputs": [],
   "source": [
    "from langchain.llms import OpenAI\n",
    "from langchain.chains import LLMChain\n",
    "from langchain.prompts import PromptTemplate\n",
    "from langchain.chains import SimpleSequentialChain"
   ]
  },
  {
   "cell_type": "code",
   "execution_count": 3,
   "id": "2af43d85",
   "metadata": {},
   "outputs": [],
   "source": [
    "from dotenv import load_dotenv"
   ]
  },
  {
   "cell_type": "code",
   "execution_count": 4,
   "id": "86ca8bcc",
   "metadata": {},
   "outputs": [
    {
     "data": {
      "text/plain": [
       "True"
      ]
     },
     "execution_count": 4,
     "metadata": {},
     "output_type": "execute_result"
    }
   ],
   "source": [
    "load_dotenv('/home/tom/two/envapi/my-env')"
   ]
  },
  {
   "cell_type": "code",
   "execution_count": 33,
   "id": "dc8dec44",
   "metadata": {},
   "outputs": [],
   "source": [
    "# llm = OpenAI(\n",
    "#     temperature=0.7\n",
    "# )\n",
    "template1 = \"\"\"\n",
    "    You are a helpful assistant that suggests a very popular dish for a locaion shared by the user in {user_location}.\n",
    "    Your_response:\n",
    "\"\"\"\n",
    "\n",
    "prompt_template1 = PromptTemplate(\n",
    "    input_variables=['user_location'],\n",
    "    template=template1\n",
    ")\n",
    "\n",
    "#holds location chain\n",
    "location_chain = LLMChain(\n",
    "    llm = OpenAI(), \n",
    "    prompt=prompt_template1\n",
    ")\n",
    "\n",
    "\n"
   ]
  },
  {
   "cell_type": "code",
   "execution_count": 34,
   "id": "d422fc8d",
   "metadata": {},
   "outputs": [],
   "source": [
    "template2 = \"\"\"\n",
    "    For a given meal, list the ingredients need to make the {user_meal}.\n",
    "    Your_response:\n",
    "\"\"\"\n",
    "\n",
    "prompt_template2 = PromptTemplate(\n",
    "    input_variables=['user_meal'],\n",
    "    template= template2\n",
    ")\n",
    "#holds meal chain\n",
    "meal_chain = LLMChain(\n",
    "    llm = llm, \n",
    "    prompt=prompt_template2\n",
    ")\n",
    "\n"
   ]
  },
  {
   "cell_type": "code",
   "execution_count": 35,
   "id": "4f393383",
   "metadata": {},
   "outputs": [
    {
     "name": "stdout",
     "output_type": "stream",
     "text": [
      "\n",
      "\n",
      "\u001b[1m> Entering new SimpleSequentialChain chain...\u001b[0m\n",
      "\u001b[36;1m\u001b[1;3m    For a location in Hyderabad, a very popular dish is Hyderabadi Biryani. It is a delicious rice dish cooked with spices and aromatic herbs and served with yogurt, onion, and lemon. Try it, you won't regret it!\u001b[0m\n",
      "\u001b[33;1m\u001b[1;3mIngredients:\n",
      "- Basmati rice\n",
      "- Vegetable/meat of your choice\n",
      "- Yogurt\n",
      "- Onion\n",
      "- Garlic\n",
      "- Ginger\n",
      "- Green chillies\n",
      "- Tomatoes\n",
      "- Coriander leaves\n",
      "- Mint leaves\n",
      "- Cardamom\n",
      "- Cloves\n",
      "- Cinnamon\n",
      "- Bay leaves\n",
      "- Cumin\n",
      "- Turmeric powder\n",
      "- Red chilli powder\n",
      "- Garam masala\n",
      "- Lemon\n",
      "- Ghee\n",
      "- Salt\u001b[0m\n",
      "\n",
      "\u001b[1m> Finished chain.\u001b[0m\n"
     ]
    }
   ],
   "source": [
    "\n",
    "#holds the overall chain (both combined)\n",
    "overall_chain = SimpleSequentialChain(\n",
    "    chains=[location_chain, meal_chain], verbose=True\n",
    ")\n",
    "    \n",
    "review = overall_chain.run(\"Hyderabad\")"
   ]
  },
  {
   "cell_type": "code",
   "execution_count": 36,
   "id": "521e9508",
   "metadata": {},
   "outputs": [
    {
     "data": {
      "text/plain": [
       "'\\n\\nThe most popular dish in Agra is definitely the world-famous Agra ka Petha! This delicious spongy sweet is made from ash gourd and is a must-try for anyone visiting the city.'"
      ]
     },
     "execution_count": 36,
     "metadata": {},
     "output_type": "execute_result"
    }
   ],
   "source": [
    "#Running the chain using LCEL\n",
    "\n",
    "user_loc_template = PromptTemplate.from_template(\"You are a helpful assistant that suggests a very popular dish for a locaion shared by the user in {user_location}. Your_response:\")\n",
    "loc_chain = user_loc_template| OpenAI()  \n",
    "\n",
    "loc_chain.invoke({\"user_location\" :\"Agra\"})"
   ]
  },
  {
   "cell_type": "code",
   "execution_count": 37,
   "id": "e964f310",
   "metadata": {},
   "outputs": [],
   "source": [
    "import pprint"
   ]
  },
  {
   "cell_type": "code",
   "execution_count": 41,
   "id": "a3843ce2",
   "metadata": {},
   "outputs": [
    {
     "name": "stdout",
     "output_type": "stream",
     "text": [
      "('\\n'\n",
      " '\\n'\n",
      " 'The most popular dish in Agra is definitely the world-famous Agra ka Petha! '\n",
      " 'This delicious spongy sweet is made from ash gourd and is a must-try for '\n",
      " 'anyone visiting the city.')\n"
     ]
    }
   ],
   "source": [
    "output=\"\"\"\\n\\nThe most popular dish in Agra is definitely the world-famous Agra ka Petha! This delicious spongy sweet is made from ash gourd and is a must-try for anyone visiting the city.\"\"\"\n",
    "pprint.pprint(output)"
   ]
  },
  {
   "cell_type": "code",
   "execution_count": 23,
   "id": "6fd323ac",
   "metadata": {},
   "outputs": [],
   "source": [
    "from langchain.prompts import ChatPromptTemplate\n",
    "from langchain.chat_models import ChatOpenAI\n",
    "\n",
    "model = ChatOpenAI()\n",
    "prompt = ChatPromptTemplate.from_template(\"tell me a joke about {topic}\")\n",
    "chain = prompt | model \n",
    "\n",
    "# chain = prompt | model |StrouputParser"
   ]
  },
  {
   "cell_type": "code",
   "execution_count": 24,
   "id": "851b84d0",
   "metadata": {},
   "outputs": [
    {
     "data": {
      "text/plain": [
       "AIMessage(content=\"Why don't scientists trust atoms?\\n\\nBecause they make up everything!\")"
      ]
     },
     "execution_count": 24,
     "metadata": {},
     "output_type": "execute_result"
    }
   ],
   "source": [
    "chain.invoke({\"topic\":\"dads\"})"
   ]
  },
  {
   "cell_type": "code",
   "execution_count": 50,
   "id": "277c6811",
   "metadata": {},
   "outputs": [
    {
     "data": {
      "text/plain": [
       "'\\n\\n1. South Indian Thali: A traditional South Indian thali is a must-have for anyone visiting Chennai. This platter consists of a variety of dishes like Sambhar, Rasam, Paruppu, Kootu, Avial, Potato Fry, Vadai, Appalam, Mor Kuzhambu, and Payasam.\\n\\n2. Idli-Sambhar: A popular breakfast dish in Chennai, Idli-Sambhar is a traditional South Indian dish made with steamed rice and lentils. The Idlis are served with Sambhar, a spicy lentil and vegetable stew.\\n\\n3. Dosa: Dosa is a popular breakfast dish in Chennai. It is a thin, crispy pancake made from a batter of rice and lentils. It is served with accompaniments like Sambhar, Chutney, and Potatoes.\\n\\n4. Biryani: Chennai is known for its delicious Biryani. This dish is a blend of rice, spices, and vegetables or meat. It is often served with accompaniments like Raita and Mirchi Ka Salan.\\n\\n5. Vada Pav: Vada Pav is a popular snack in Chennai. It is'"
      ]
     },
     "execution_count": 50,
     "metadata": {},
     "output_type": "execute_result"
    }
   ],
   "source": [
    "model = OpenAI()\n",
    "prompt = PromptTemplate.from_template(                          \n",
    "    \"You are an assistant who suggests popular dishes for a given {user_location}.\")\n",
    "l_chain = prompt | OpenAI()\n",
    "\n",
    "l_chain.invoke({\"user_location\":\"Chennai\"})"
   ]
  },
  {
   "cell_type": "code",
   "execution_count": 49,
   "id": "a337e757",
   "metadata": {},
   "outputs": [
    {
     "ename": "KeyError",
     "evalue": "'chains'",
     "output_type": "error",
     "traceback": [
      "\u001b[0;31m---------------------------------------------------------------------------\u001b[0m",
      "\u001b[0;31mKeyError\u001b[0m                                  Traceback (most recent call last)",
      "Cell \u001b[0;32mIn[49], line 4\u001b[0m\n\u001b[1;32m      1\u001b[0m prompt \u001b[38;5;241m=\u001b[39m PromptTemplate\u001b[38;5;241m.\u001b[39mfrom_template(\u001b[38;5;124m\"\u001b[39m\u001b[38;5;124mSuggest the ingredients for the dish shared by user in \u001b[39m\u001b[38;5;132;01m{user_dish}\u001b[39;00m\u001b[38;5;124m.\u001b[39m\u001b[38;5;124m\"\u001b[39m)\n\u001b[1;32m      2\u001b[0m d_chain \u001b[38;5;241m=\u001b[39m prompt \u001b[38;5;241m|\u001b[39m OpenAI()\n\u001b[0;32m----> 4\u001b[0m overall_chain \u001b[38;5;241m=\u001b[39m \u001b[43mSimpleSequentialChain\u001b[49m\u001b[43m(\u001b[49m\n\u001b[1;32m      5\u001b[0m \u001b[43m    \u001b[49m\u001b[43mchains\u001b[49m\u001b[38;5;241;43m=\u001b[39;49m\u001b[43m[\u001b[49m\u001b[43ml_chain\u001b[49m\u001b[43m,\u001b[49m\u001b[43m \u001b[49m\u001b[43md_chain\u001b[49m\u001b[43m]\u001b[49m\u001b[43m,\u001b[49m\u001b[43m \u001b[49m\n\u001b[1;32m      6\u001b[0m \u001b[43m    \u001b[49m\u001b[43mverbose\u001b[49m\u001b[38;5;241;43m=\u001b[39;49m\u001b[38;5;28;43;01mTrue\u001b[39;49;00m\n\u001b[1;32m      7\u001b[0m \u001b[43m)\u001b[49m\n\u001b[1;32m      8\u001b[0m overall_chain\u001b[38;5;241m.\u001b[39mrun(\u001b[38;5;124m\"\u001b[39m\u001b[38;5;124mJapan\u001b[39m\u001b[38;5;124m\"\u001b[39m)\n",
      "File \u001b[0;32m~/.local/lib/python3.10/site-packages/langchain/load/serializable.py:97\u001b[0m, in \u001b[0;36mSerializable.__init__\u001b[0;34m(self, **kwargs)\u001b[0m\n\u001b[1;32m     96\u001b[0m \u001b[38;5;28;01mdef\u001b[39;00m \u001b[38;5;21m__init__\u001b[39m(\u001b[38;5;28mself\u001b[39m, \u001b[38;5;241m*\u001b[39m\u001b[38;5;241m*\u001b[39mkwargs: Any) \u001b[38;5;241m-\u001b[39m\u001b[38;5;241m>\u001b[39m \u001b[38;5;28;01mNone\u001b[39;00m:\n\u001b[0;32m---> 97\u001b[0m     \u001b[38;5;28;43msuper\u001b[39;49m\u001b[43m(\u001b[49m\u001b[43m)\u001b[49m\u001b[38;5;241;43m.\u001b[39;49m\u001b[38;5;21;43m__init__\u001b[39;49m\u001b[43m(\u001b[49m\u001b[38;5;241;43m*\u001b[39;49m\u001b[38;5;241;43m*\u001b[39;49m\u001b[43mkwargs\u001b[49m\u001b[43m)\u001b[49m\n\u001b[1;32m     98\u001b[0m     \u001b[38;5;28mself\u001b[39m\u001b[38;5;241m.\u001b[39m_lc_kwargs \u001b[38;5;241m=\u001b[39m kwargs\n",
      "File \u001b[0;32m~/.local/lib/python3.10/site-packages/pydantic/v1/main.py:339\u001b[0m, in \u001b[0;36mBaseModel.__init__\u001b[0;34m(__pydantic_self__, **data)\u001b[0m\n\u001b[1;32m    333\u001b[0m \u001b[38;5;250m\u001b[39m\u001b[38;5;124;03m\"\"\"\u001b[39;00m\n\u001b[1;32m    334\u001b[0m \u001b[38;5;124;03mCreate a new model by parsing and validating input data from keyword arguments.\u001b[39;00m\n\u001b[1;32m    335\u001b[0m \n\u001b[1;32m    336\u001b[0m \u001b[38;5;124;03mRaises ValidationError if the input data cannot be parsed to form a valid model.\u001b[39;00m\n\u001b[1;32m    337\u001b[0m \u001b[38;5;124;03m\"\"\"\u001b[39;00m\n\u001b[1;32m    338\u001b[0m \u001b[38;5;66;03m# Uses something other than `self` the first arg to allow \"self\" as a settable attribute\u001b[39;00m\n\u001b[0;32m--> 339\u001b[0m values, fields_set, validation_error \u001b[38;5;241m=\u001b[39m \u001b[43mvalidate_model\u001b[49m\u001b[43m(\u001b[49m\u001b[43m__pydantic_self__\u001b[49m\u001b[38;5;241;43m.\u001b[39;49m\u001b[38;5;18;43m__class__\u001b[39;49m\u001b[43m,\u001b[49m\u001b[43m \u001b[49m\u001b[43mdata\u001b[49m\u001b[43m)\u001b[49m\n\u001b[1;32m    340\u001b[0m \u001b[38;5;28;01mif\u001b[39;00m validation_error:\n\u001b[1;32m    341\u001b[0m     \u001b[38;5;28;01mraise\u001b[39;00m validation_error\n",
      "File \u001b[0;32m~/.local/lib/python3.10/site-packages/pydantic/v1/main.py:1102\u001b[0m, in \u001b[0;36mvalidate_model\u001b[0;34m(model, input_data, cls)\u001b[0m\n\u001b[1;32m   1100\u001b[0m     \u001b[38;5;28;01mcontinue\u001b[39;00m\n\u001b[1;32m   1101\u001b[0m \u001b[38;5;28;01mtry\u001b[39;00m:\n\u001b[0;32m-> 1102\u001b[0m     values \u001b[38;5;241m=\u001b[39m \u001b[43mvalidator\u001b[49m\u001b[43m(\u001b[49m\u001b[43mcls_\u001b[49m\u001b[43m,\u001b[49m\u001b[43m \u001b[49m\u001b[43mvalues\u001b[49m\u001b[43m)\u001b[49m\n\u001b[1;32m   1103\u001b[0m \u001b[38;5;28;01mexcept\u001b[39;00m (\u001b[38;5;167;01mValueError\u001b[39;00m, \u001b[38;5;167;01mTypeError\u001b[39;00m, \u001b[38;5;167;01mAssertionError\u001b[39;00m) \u001b[38;5;28;01mas\u001b[39;00m exc:\n\u001b[1;32m   1104\u001b[0m     errors\u001b[38;5;241m.\u001b[39mappend(ErrorWrapper(exc, loc\u001b[38;5;241m=\u001b[39mROOT_KEY))\n",
      "File \u001b[0;32m~/.local/lib/python3.10/site-packages/langchain/chains/sequential.py:157\u001b[0m, in \u001b[0;36mSimpleSequentialChain.validate_chains\u001b[0;34m(cls, values)\u001b[0m\n\u001b[1;32m    154\u001b[0m \u001b[38;5;129m@root_validator\u001b[39m()\n\u001b[1;32m    155\u001b[0m \u001b[38;5;28;01mdef\u001b[39;00m \u001b[38;5;21mvalidate_chains\u001b[39m(\u001b[38;5;28mcls\u001b[39m, values: Dict) \u001b[38;5;241m-\u001b[39m\u001b[38;5;241m>\u001b[39m Dict:\n\u001b[1;32m    156\u001b[0m \u001b[38;5;250m    \u001b[39m\u001b[38;5;124;03m\"\"\"Validate that chains are all single input/output.\"\"\"\u001b[39;00m\n\u001b[0;32m--> 157\u001b[0m     \u001b[38;5;28;01mfor\u001b[39;00m chain \u001b[38;5;129;01min\u001b[39;00m \u001b[43mvalues\u001b[49m\u001b[43m[\u001b[49m\u001b[38;5;124;43m\"\u001b[39;49m\u001b[38;5;124;43mchains\u001b[39;49m\u001b[38;5;124;43m\"\u001b[39;49m\u001b[43m]\u001b[49m:\n\u001b[1;32m    158\u001b[0m         \u001b[38;5;28;01mif\u001b[39;00m \u001b[38;5;28mlen\u001b[39m(chain\u001b[38;5;241m.\u001b[39minput_keys) \u001b[38;5;241m!=\u001b[39m \u001b[38;5;241m1\u001b[39m:\n\u001b[1;32m    159\u001b[0m             \u001b[38;5;28;01mraise\u001b[39;00m \u001b[38;5;167;01mValueError\u001b[39;00m(\n\u001b[1;32m    160\u001b[0m                 \u001b[38;5;124m\"\u001b[39m\u001b[38;5;124mChains used in SimplePipeline should all have one input, got \u001b[39m\u001b[38;5;124m\"\u001b[39m\n\u001b[1;32m    161\u001b[0m                 \u001b[38;5;124mf\u001b[39m\u001b[38;5;124m\"\u001b[39m\u001b[38;5;132;01m{\u001b[39;00mchain\u001b[38;5;132;01m}\u001b[39;00m\u001b[38;5;124m with \u001b[39m\u001b[38;5;132;01m{\u001b[39;00m\u001b[38;5;28mlen\u001b[39m(chain\u001b[38;5;241m.\u001b[39minput_keys)\u001b[38;5;132;01m}\u001b[39;00m\u001b[38;5;124m inputs.\u001b[39m\u001b[38;5;124m\"\u001b[39m\n\u001b[1;32m    162\u001b[0m             )\n",
      "\u001b[0;31mKeyError\u001b[0m: 'chains'"
     ]
    }
   ],
   "source": [
    "prompt = PromptTemplate.from_template(\"Suggest the ingredients for the dish shared by user in {user_dish}.\")\n",
    "d_chain = prompt | OpenAI()\n",
    "\n",
    "overall_chain = SimpleSequentialChain(\n",
    "    chains=[l_chain, d_chain], \n",
    "    verbose=True\n",
    ")\n",
    "overall_chain.run(\"Japan\")\n"
   ]
  },
  {
   "cell_type": "code",
   "execution_count": null,
   "id": "c48bfe74",
   "metadata": {},
   "outputs": [],
   "source": []
  }
 ],
 "metadata": {
  "kernelspec": {
   "display_name": "Python 3 (ipykernel)",
   "language": "python",
   "name": "python3"
  },
  "language_info": {
   "codemirror_mode": {
    "name": "ipython",
    "version": 3
   },
   "file_extension": ".py",
   "mimetype": "text/x-python",
   "name": "python",
   "nbconvert_exporter": "python",
   "pygments_lexer": "ipython3",
   "version": "3.10.12"
  }
 },
 "nbformat": 4,
 "nbformat_minor": 5
}
