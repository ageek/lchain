{
 "cells": [
  {
   "cell_type": "code",
   "execution_count": 5,
   "id": "cbe2c4cc",
   "metadata": {},
   "outputs": [],
   "source": [
    "from dotenv import dotenv_values\n",
    "from langchain import OpenAI, ConversationChain"
   ]
  },
  {
   "cell_type": "code",
   "execution_count": 3,
   "id": "c75f4387",
   "metadata": {},
   "outputs": [],
   "source": [
    "config = dotenv_values(\"/home/tom/two/envapi/my-env\")"
   ]
  },
  {
   "cell_type": "code",
   "execution_count": 4,
   "id": "d97187e7",
   "metadata": {},
   "outputs": [],
   "source": [
    "openai_key = config['OPENAI_API_KEY']"
   ]
  },
  {
   "cell_type": "code",
   "execution_count": 10,
   "id": "d0fe99a4",
   "metadata": {},
   "outputs": [],
   "source": [
    "llm = OpenAI(\n",
    "    temperature=0.9,\n",
    "    openai_api_key= openai_key\n",
    ")\n",
    "\n",
    "conversation = ConversationChain(llm=llm, verbose=True)"
   ]
  },
  {
   "cell_type": "code",
   "execution_count": 12,
   "id": "379f6bb2",
   "metadata": {},
   "outputs": [
    {
     "name": "stdout",
     "output_type": "stream",
     "text": [
      "Welcome to AI chatbot...\n",
      "You:How is it going?\n",
      "\n",
      "\n",
      "\u001b[1m> Entering new ConversationChain chain...\u001b[0m\n",
      "Prompt after formatting:\n",
      "\u001b[32;1m\u001b[1;3mThe following is a friendly conversation between a human and an AI. The AI is talkative and provides lots of specific details from its context. If the AI does not know the answer to a question, it truthfully says it does not know.\n",
      "\n",
      "Current conversation:\n",
      "\n",
      "Human: How is it going?\n",
      "AI:\u001b[0m\n",
      "\n",
      "\u001b[1m> Finished chain.\u001b[0m\n",
      "AI:   It's going well! I'm currently working on an algorithm to better recognize patterns in data. It's an interesting challenge, and I'm learning a lot! How about you?\n",
      "You:doing fine, how is the weather ?\n",
      "\n",
      "\n",
      "\u001b[1m> Entering new ConversationChain chain...\u001b[0m\n",
      "Prompt after formatting:\n",
      "\u001b[32;1m\u001b[1;3mThe following is a friendly conversation between a human and an AI. The AI is talkative and provides lots of specific details from its context. If the AI does not know the answer to a question, it truthfully says it does not know.\n",
      "\n",
      "Current conversation:\n",
      "Human: How is it going?\n",
      "AI:  It's going well! I'm currently working on an algorithm to better recognize patterns in data. It's an interesting challenge, and I'm learning a lot! How about you?\n",
      "Human: doing fine, how is the weather ?\n",
      "AI:\u001b[0m\n",
      "\n",
      "\u001b[1m> Finished chain.\u001b[0m\n",
      "AI:   The weather is great! It's sunny with temperatures in the mid-sixties. The perfect temperature for a walk outside.\n",
      "You:great, let me go for a walk then. Cee yaa later. bye\n",
      "\n",
      "\n",
      "\u001b[1m> Entering new ConversationChain chain...\u001b[0m\n",
      "Prompt after formatting:\n",
      "\u001b[32;1m\u001b[1;3mThe following is a friendly conversation between a human and an AI. The AI is talkative and provides lots of specific details from its context. If the AI does not know the answer to a question, it truthfully says it does not know.\n",
      "\n",
      "Current conversation:\n",
      "Human: How is it going?\n",
      "AI:  It's going well! I'm currently working on an algorithm to better recognize patterns in data. It's an interesting challenge, and I'm learning a lot! How about you?\n",
      "Human: doing fine, how is the weather ?\n",
      "AI:  The weather is great! It's sunny with temperatures in the mid-sixties. The perfect temperature for a walk outside.\n",
      "Human: great, let me go for a walk then. Cee yaa later. bye\n",
      "AI:\u001b[0m\n",
      "\n",
      "\u001b[1m> Finished chain.\u001b[0m\n",
      "AI:   Bye! Have a great walk!\n"
     ]
    }
   ],
   "source": [
    "print(\"Welcome to AI chatbot...\")\n",
    "\n",
    "for _ in range(3):\n",
    "    human_input = input(\"You:\")\n",
    "    ai_response = conversation.predict(input=human_input)\n",
    "    print(\"AI: \", ai_response)"
   ]
  },
  {
   "cell_type": "code",
   "execution_count": null,
   "id": "f8e8d778",
   "metadata": {},
   "outputs": [],
   "source": []
  }
 ],
 "metadata": {
  "kernelspec": {
   "display_name": "Python 3 (ipykernel)",
   "language": "python",
   "name": "python3"
  },
  "language_info": {
   "codemirror_mode": {
    "name": "ipython",
    "version": 3
   },
   "file_extension": ".py",
   "mimetype": "text/x-python",
   "name": "python",
   "nbconvert_exporter": "python",
   "pygments_lexer": "ipython3",
   "version": "3.10.12"
  }
 },
 "nbformat": 4,
 "nbformat_minor": 5
}
