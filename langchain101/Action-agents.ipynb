{
 "cells": [
  {
   "cell_type": "code",
   "execution_count": 11,
   "id": "f6f47955",
   "metadata": {},
   "outputs": [],
   "source": [
    "import pprint, numexpr"
   ]
  },
  {
   "cell_type": "code",
   "execution_count": 12,
   "id": "48261b76",
   "metadata": {},
   "outputs": [],
   "source": [
    "from langchain.agents import get_all_tool_names\n",
    "from langchain.llms import OpenAI\n",
    "from langchain.agents import load_tools, initialize_agent\n",
    "from dotenv import dotenv_values"
   ]
  },
  {
   "cell_type": "code",
   "execution_count": 13,
   "id": "8b17b42b",
   "metadata": {},
   "outputs": [],
   "source": [
    "prompt=\"When was the first Prime Minister of India born, what is the year raised to the power of 4\""
   ]
  },
  {
   "cell_type": "code",
   "execution_count": 14,
   "id": "9e12b5c5",
   "metadata": {},
   "outputs": [],
   "source": [
    "config = dotenv_values(\"/home/tom/two/envapi/my-env\")"
   ]
  },
  {
   "cell_type": "code",
   "execution_count": 15,
   "id": "ce9d4254",
   "metadata": {},
   "outputs": [],
   "source": [
    "pp = pprint.PrettyPrinter(indent=4)"
   ]
  },
  {
   "cell_type": "code",
   "execution_count": 16,
   "id": "df94d762",
   "metadata": {},
   "outputs": [],
   "source": [
    "openai_key = config['OPENAI_API_KEY']"
   ]
  },
  {
   "cell_type": "code",
   "execution_count": 17,
   "id": "1a36154d",
   "metadata": {},
   "outputs": [
    {
     "name": "stdout",
     "output_type": "stream",
     "text": [
      "[   'python_repl',\n",
      "    'requests',\n",
      "    'requests_get',\n",
      "    'requests_post',\n",
      "    'requests_patch',\n",
      "    'requests_put',\n",
      "    'requests_delete',\n",
      "    'terminal',\n",
      "    'sleep',\n",
      "    'wolfram-alpha',\n",
      "    'google-search',\n",
      "    'google-search-results-json',\n",
      "    'searx-search-results-json',\n",
      "    'bing-search',\n",
      "    'metaphor-search',\n",
      "    'ddg-search',\n",
      "    'google-serper',\n",
      "    'google-scholar',\n",
      "    'google-serper-results-json',\n",
      "    'searchapi',\n",
      "    'searchapi-results-json',\n",
      "    'serpapi',\n",
      "    'dalle-image-generator',\n",
      "    'twilio',\n",
      "    'searx-search',\n",
      "    'wikipedia',\n",
      "    'arxiv',\n",
      "    'golden-query',\n",
      "    'pubmed',\n",
      "    'human',\n",
      "    'awslambda',\n",
      "    'sceneXplain',\n",
      "    'graphql',\n",
      "    'openweathermap-api',\n",
      "    'dataforseo-api-search',\n",
      "    'dataforseo-api-search-json',\n",
      "    'eleven_labs_text2speech',\n",
      "    'google_cloud_texttospeech',\n",
      "    'news-api',\n",
      "    'tmdb-api',\n",
      "    'podcast-api',\n",
      "    'llm-math',\n",
      "    'open-meteo-api']\n"
     ]
    }
   ],
   "source": [
    "pp.pprint(get_all_tool_names())"
   ]
  },
  {
   "cell_type": "code",
   "execution_count": 18,
   "id": "aca1d2da",
   "metadata": {},
   "outputs": [],
   "source": [
    "llm = OpenAI(\n",
    "    temperature=0.9, \n",
    "    openai_api_key=openai_key\n",
    ")"
   ]
  },
  {
   "cell_type": "code",
   "execution_count": 20,
   "id": "c08cd817",
   "metadata": {},
   "outputs": [],
   "source": [
    "tools = load_tools([\"wikipedia\", \"llm-math\"],\n",
    "                  llm= llm\n",
    "                  )"
   ]
  },
  {
   "cell_type": "code",
   "execution_count": 24,
   "id": "3974c354",
   "metadata": {},
   "outputs": [],
   "source": [
    "agent = initialize_agent(tools, llm, \n",
    "                         agent=\"zero-shot-react-description\", \n",
    "                         verbose=True)"
   ]
  },
  {
   "cell_type": "code",
   "execution_count": 25,
   "id": "d296ec03",
   "metadata": {},
   "outputs": [
    {
     "name": "stdout",
     "output_type": "stream",
     "text": [
      "\n",
      "\n",
      "\u001b[1m> Entering new AgentExecutor chain...\u001b[0m\n",
      "\u001b[32;1m\u001b[1;3m I need to find the year the Prime Minister was born, and then use a calculator to calculate the answer.\n",
      "Action: Wikipedia \n",
      "Action Input: \"First Prime Minister of India\"\u001b[0m\n",
      "Observation: \u001b[36;1m\u001b[1;3mPage: List of prime ministers of India\n",
      "Summary: The prime minister of India is the chief executive of the Government of India. Although the president of India is the constitutional, nominal, and ceremonial head of state, in practice and ordinarily, the executive authority is vested in the prime minister and their chosen Council of Ministers. The prime minister is the leader elected by the party with a majority in the lower house of the Indian parliament, the Lok Sabha, which is the main legislative body in the Republic of India. The prime minister and their cabinet are at all times responsible to the Lok Sabha. The prime minister can be a member of the Lok Sabha or of the Rajya Sabha, the upper house of the parliament. The prime minister ranks third in the order of precedence.\n",
      "\n",
      "The prime minister is appointed by the president of India; however, the prime minister has to enjoy the confidence of the majority of Lok Sabha members, who are directly elected every five years, unless a prime minister resigns. The prime minister is the presiding member of the Council of Ministers of the Union government. The prime minister unilaterally controls the selection and dismissal of members of the Council; and allocation of posts to members within the government. This Council, which is collectively responsible to the Lok Sabha as per Article 75(3), assists the president regarding the operations under the latter's powers; however, by the virtue of Article 74 of the Constitution, such 'aid and advice' tendered by the Council is binding.\n",
      "Since 1947, India has had 14 prime ministers. Jawaharlal Nehru was India's first prime minister, serving as prime minister of the Dominion of India from 15 August 1947 until 26 January 1950, and thereafter of the Republic of India until his death in May 1964. (India conducted its first post-independence general elections in 1952). Earlier, Nehru had served as prime minister of the Interim Government of India during the British Raj from 2 September 1946 until 14 August 1947, his party, the Indian National Congress having won the 1946 Indian provincial elections.) Nehru was succeeded by Lal Bahadur Shastri, whose 1 year 7-month term ended in his death in Tashkent, then in the USSR, where he had signed the Tashkent Declaration between India and Pakistan. Indira Gandhi, Nehru's daughter, succeeded Shastri in 1966 to become the country's first female prime minister. Eleven years later, her party the Indian National Congress lost the 1977 Indian general election to the Janata Party, whose leader Morarji Desai became the first non-Congress prime minister. After Desai resigned in 1979, his former associate Charan Singh briefly held office until the Congress won the 1980 Indian general election and Indira Gandhi returned as prime minister. Her second term as prime minister ended five years later on 31 October 1984, when she was assassinated by her bodyguards. Her son Rajiv Gandhi was sworn in as India's youngest premier. Members of Nehru–Gandhi family have been prime minister for approximately 38 years.After a general election loss, Rajiv Gandhi's five-year term ended; his former cabinet colleague, Vishwanath Pratap Singh of the Janata Dal, formed the year-long National Front coalition government in 1989. A seven-month interlude under prime minister Chandra Shekhar followed, after which the Congress party returned to power, forming the government under P. V. Narasimha Rao in June 1991, Rajiv Gandhi having been assassinated earlier that year. Rao's five-year term was succeeded by four short-lived governments—Atal Bihari Vajpayee from the Bharatiya Janata Party (BJP) for 13 days in 1996, a year each under United Front prime ministers H. D. Deve Gowda and Inder Kumar Gujral, and Vajpayee again for 19 months in 1998–1999. In 1998, Vajpayee's National Democratic Alliance (NDA) won the general election, the first non-Congress alliance to do so, and he served a full five-year term as prime minister. The Congress, and its United\u001b[0m\n",
      "Thought:\u001b[32;1m\u001b[1;3m I now have enough information to answer the question.\n",
      "Final Answer: Jawaharlal Nehru, the first Prime Minister of India, was born in 1889, and 1889^4 is 7,260,161,889.\u001b[0m\n",
      "\n",
      "\u001b[1m> Finished chain.\u001b[0m\n"
     ]
    },
    {
     "data": {
      "text/plain": [
       "'Jawaharlal Nehru, the first Prime Minister of India, was born in 1889, and 1889^4 is 7,260,161,889.'"
      ]
     },
     "execution_count": 25,
     "metadata": {},
     "output_type": "execute_result"
    }
   ],
   "source": [
    "agent.run(prompt)"
   ]
  },
  {
   "cell_type": "code",
   "execution_count": null,
   "id": "89f6213f",
   "metadata": {},
   "outputs": [],
   "source": []
  }
 ],
 "metadata": {
  "kernelspec": {
   "display_name": "botvenv",
   "language": "python",
   "name": "botvenv"
  },
  "language_info": {
   "codemirror_mode": {
    "name": "ipython",
    "version": 3
   },
   "file_extension": ".py",
   "mimetype": "text/x-python",
   "name": "python",
   "nbconvert_exporter": "python",
   "pygments_lexer": "ipython3",
   "version": "3.10.12"
  }
 },
 "nbformat": 4,
 "nbformat_minor": 5
}
