{
 "cells": [
  {
   "cell_type": "code",
   "execution_count": 1,
   "id": "158ed0c5",
   "metadata": {},
   "outputs": [],
   "source": [
    "import openai\n",
    "from dotenv import dotenv_values\n"
   ]
  },
  {
   "cell_type": "code",
   "execution_count": 2,
   "id": "ae7a5b33",
   "metadata": {},
   "outputs": [],
   "source": [
    "config = dotenv_values(\"/home/tom/two/envapi/my-env\")\n"
   ]
  },
  {
   "cell_type": "code",
   "execution_count": 4,
   "id": "a963b88a",
   "metadata": {},
   "outputs": [],
   "source": [
    "HUGGINGFACEHUB_API_TOKEN = config['HUGGINGFACEHUB_API_TOKEN']"
   ]
  },
  {
   "cell_type": "code",
   "execution_count": 12,
   "id": "1cb8ee9d",
   "metadata": {},
   "outputs": [],
   "source": [
    "#print(HUGGINGFACEHUB_API_TOKEN)"
   ]
  },
  {
   "cell_type": "code",
   "execution_count": 5,
   "id": "c0e71f59",
   "metadata": {},
   "outputs": [],
   "source": [
    "\n",
    "from langchain import HuggingFaceHub"
   ]
  },
  {
   "cell_type": "code",
   "execution_count": 12,
   "id": "17f12bb9",
   "metadata": {},
   "outputs": [
    {
     "name": "stderr",
     "output_type": "stream",
     "text": [
      "/home/tom/.local/lib/python3.10/site-packages/huggingface_hub/utils/_deprecation.py:127: FutureWarning: '__init__' (from 'huggingface_hub.inference_api') is deprecated and will be removed from version '0.19.0'. `InferenceApi` client is deprecated in favor of the more feature-complete `InferenceClient`. Check out this guide to learn how to convert your script to use it: https://huggingface.co/docs/huggingface_hub/guides/inference#legacy-inferenceapi-client.\n",
      "  warnings.warn(warning_message, FutureWarning)\n"
     ]
    },
    {
     "name": "stdout",
     "output_type": "stream",
     "text": [
      "Exercise for at least 30 minutes a day.\n"
     ]
    }
   ],
   "source": [
    "llm = HuggingFaceHub(\n",
    "    huggingfacehub_api_token=HUGGINGFACEHUB_API_TOKEN,\n",
    "    repo_id='google/flan-t5-base',\n",
    "    model_kwargs={\"temperature\":0.9, \n",
    "                 \"max_length\":64}\n",
    ")\n",
    "\n",
    "prompt = \"What are good fitness tips?\"\n",
    "\n",
    "print(llm(prompt))"
   ]
  },
  {
   "cell_type": "code",
   "execution_count": 14,
   "id": "a2f96040",
   "metadata": {},
   "outputs": [],
   "source": [
    "result = llm.generate([prompt]*3)"
   ]
  },
  {
   "cell_type": "code",
   "execution_count": 15,
   "id": "ed507a74",
   "metadata": {},
   "outputs": [
    {
     "name": "stdout",
     "output_type": "stream",
     "text": [
      "Exercise for at least 30 minutes a day.\n",
      "Exercise for at least 30 minutes a day.\n",
      "Exercise for at least 30 minutes a day.\n"
     ]
    }
   ],
   "source": [
    "for exercise in result.generations:\n",
    "    print(exercise[0].text)"
   ]
  },
  {
   "cell_type": "code",
   "execution_count": 16,
   "id": "9542cb93",
   "metadata": {},
   "outputs": [
    {
     "name": "stderr",
     "output_type": "stream",
     "text": [
      "/home/tom/.local/lib/python3.10/site-packages/huggingface_hub/utils/_deprecation.py:127: FutureWarning: '__init__' (from 'huggingface_hub.inference_api') is deprecated and will be removed from version '0.19.0'. `InferenceApi` client is deprecated in favor of the more feature-complete `InferenceClient`. Check out this guide to learn how to convert your script to use it: https://huggingface.co/docs/huggingface_hub/guides/inference#legacy-inferenceapi-client.\n",
      "  warnings.warn(warning_message, FutureWarning)\n"
     ]
    },
    {
     "name": "stdout",
     "output_type": "stream",
     "text": [
      "iSocks\n"
     ]
    }
   ],
   "source": [
    "llm2=HuggingFaceHub(\n",
    "    huggingfacehub_api_token=HUGGINGFACEHUB_API_TOKEN, \n",
    "    repo_id='google/flan-t5-small', \n",
    "    model_kwargs={\n",
    "        'temeperature':0.7,\n",
    "        'max_length':52\n",
    "    }\n",
    ")\n",
    "\n",
    "prompt = \"Suggest some company names for a new startup on colorful socks\"\n",
    "print(llm(prompt))"
   ]
  },
  {
   "cell_type": "code",
   "execution_count": 17,
   "id": "bba0aa70",
   "metadata": {},
   "outputs": [],
   "source": [
    "result = llm.generate([prompt]*4)"
   ]
  },
  {
   "cell_type": "code",
   "execution_count": 18,
   "id": "17f47bdf",
   "metadata": {},
   "outputs": [
    {
     "name": "stdout",
     "output_type": "stream",
     "text": [
      "iSocks\n",
      "iSocks\n",
      "iSocks\n",
      "iSocks\n"
     ]
    }
   ],
   "source": [
    "for name in result.generations:\n",
    "    print(name[0].text)"
   ]
  },
  {
   "cell_type": "code",
   "execution_count": null,
   "id": "6a7f98e5",
   "metadata": {},
   "outputs": [],
   "source": []
  }
 ],
 "metadata": {
  "kernelspec": {
   "display_name": "botvenv",
   "language": "python",
   "name": "botvenv"
  },
  "language_info": {
   "codemirror_mode": {
    "name": "ipython",
    "version": 3
   },
   "file_extension": ".py",
   "mimetype": "text/x-python",
   "name": "python",
   "nbconvert_exporter": "python",
   "pygments_lexer": "ipython3",
   "version": "3.10.12"
  }
 },
 "nbformat": 4,
 "nbformat_minor": 5
}
