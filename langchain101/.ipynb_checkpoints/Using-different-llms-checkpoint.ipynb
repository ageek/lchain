{
 "cells": [
  {
   "cell_type": "code",
   "execution_count": 1,
   "id": "5f126a0b",
   "metadata": {},
   "outputs": [],
   "source": [
    "import openai\n",
    "from dotenv import dotenv_values\n"
   ]
  },
  {
   "cell_type": "code",
   "execution_count": 2,
   "id": "41479316",
   "metadata": {},
   "outputs": [],
   "source": [
    "config = dotenv_values(\"/home/tom/two/envapi/my-env\")\n"
   ]
  },
  {
   "cell_type": "code",
   "execution_count": 4,
   "id": "880c83f9",
   "metadata": {},
   "outputs": [],
   "source": [
    "HUGGINGFACEHUB_API_TOKEN = config['HUGGINGFACEHUB_API_TOKEN']"
   ]
  },
  {
   "cell_type": "code",
   "execution_count": 12,
   "id": "62d86623",
   "metadata": {},
   "outputs": [],
   "source": [
    "#print(HUGGINGFACEHUB_API_TOKEN)"
   ]
  },
  {
   "cell_type": "code",
   "execution_count": 5,
   "id": "5b164b88",
   "metadata": {},
   "outputs": [],
   "source": [
    "\n",
    "from langchain import HuggingFaceHub"
   ]
  },
  {
   "cell_type": "code",
   "execution_count": 12,
   "id": "7e05a997",
   "metadata": {},
   "outputs": [
    {
     "name": "stderr",
     "output_type": "stream",
     "text": [
      "/home/tom/.local/lib/python3.10/site-packages/huggingface_hub/utils/_deprecation.py:127: FutureWarning: '__init__' (from 'huggingface_hub.inference_api') is deprecated and will be removed from version '0.19.0'. `InferenceApi` client is deprecated in favor of the more feature-complete `InferenceClient`. Check out this guide to learn how to convert your script to use it: https://huggingface.co/docs/huggingface_hub/guides/inference#legacy-inferenceapi-client.\n",
      "  warnings.warn(warning_message, FutureWarning)\n"
     ]
    },
    {
     "name": "stdout",
     "output_type": "stream",
     "text": [
      "Exercise for at least 30 minutes a day.\n"
     ]
    }
   ],
   "source": [
    "llm = HuggingFaceHub(\n",
    "    huggingfacehub_api_token=HUGGINGFACEHUB_API_TOKEN,\n",
    "    repo_id='google/flan-t5-base',\n",
    "    model_kwargs={\"temperature\":0.9, \n",
    "                 \"max_length\":64}\n",
    ")\n",
    "\n",
    "prompt = \"What are good fitness tips?\"\n",
    "\n",
    "print(llm(prompt))"
   ]
  },
  {
   "cell_type": "code",
   "execution_count": 14,
   "id": "ada78ca4",
   "metadata": {},
   "outputs": [],
   "source": [
    "result = llm.generate([prompt]*3)"
   ]
  },
  {
   "cell_type": "code",
   "execution_count": 15,
   "id": "ef448f70",
   "metadata": {},
   "outputs": [
    {
     "name": "stdout",
     "output_type": "stream",
     "text": [
      "Exercise for at least 30 minutes a day.\n",
      "Exercise for at least 30 minutes a day.\n",
      "Exercise for at least 30 minutes a day.\n"
     ]
    }
   ],
   "source": [
    "for exercise in result.generations:\n",
    "    print(exercise[0].text)"
   ]
  },
  {
   "cell_type": "code",
   "execution_count": null,
   "id": "bb33bcc0",
   "metadata": {},
   "outputs": [],
   "source": []
  }
 ],
 "metadata": {
  "kernelspec": {
   "display_name": "botvenv",
   "language": "python",
   "name": "botvenv"
  },
  "language_info": {
   "codemirror_mode": {
    "name": "ipython",
    "version": 3
   },
   "file_extension": ".py",
   "mimetype": "text/x-python",
   "name": "python",
   "nbconvert_exporter": "python",
   "pygments_lexer": "ipython3",
   "version": "3.10.12"
  }
 },
 "nbformat": 4,
 "nbformat_minor": 5
}
