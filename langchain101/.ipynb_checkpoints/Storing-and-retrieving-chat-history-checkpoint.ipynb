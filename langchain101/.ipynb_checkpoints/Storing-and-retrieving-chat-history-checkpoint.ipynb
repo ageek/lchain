{
 "cells": [
  {
   "cell_type": "code",
   "execution_count": 1,
   "id": "0a4bcc72",
   "metadata": {},
   "outputs": [],
   "source": [
    "from dotenv import dotenv_values"
   ]
  },
  {
   "cell_type": "code",
   "execution_count": 2,
   "id": "719403c0",
   "metadata": {},
   "outputs": [],
   "source": [
    "from langchain import OpenAI, ConversationChain"
   ]
  },
  {
   "cell_type": "code",
   "execution_count": 3,
   "id": "8678da3b",
   "metadata": {},
   "outputs": [],
   "source": [
    "from langchain.memory import ChatMessageHistory, ConversationBufferMemory\n",
    "from langchain.schema import messages_from_dict, messages_to_dict"
   ]
  },
  {
   "cell_type": "code",
   "execution_count": null,
   "id": "b7b59a31",
   "metadata": {},
   "outputs": [],
   "source": []
  },
  {
   "cell_type": "code",
   "execution_count": 4,
   "id": "0d5a97a3",
   "metadata": {},
   "outputs": [],
   "source": [
    "history = ChatMessageHistory()\n",
    "history.add_user_message(\"Hi, lets talk about Giraffes\")\n",
    "history.add_ai_message(\"Hi, I'm down to talk about Giraffes\")"
   ]
  },
  {
   "cell_type": "code",
   "execution_count": 5,
   "id": "9765280e",
   "metadata": {},
   "outputs": [
    {
     "name": "stdout",
     "output_type": "stream",
     "text": [
      "[{'type': 'human', 'data': {'content': 'Hi, lets talk about Giraffes', 'additional_kwargs': {}, 'type': 'human', 'example': False}}, {'type': 'ai', 'data': {'content': \"Hi, I'm down to talk about Giraffes\", 'additional_kwargs': {}, 'type': 'ai', 'example': False}}]\n"
     ]
    }
   ],
   "source": [
    "dicts =messages_to_dict(history.messages)\n",
    "print(dicts)"
   ]
  },
  {
   "cell_type": "code",
   "execution_count": null,
   "id": "5953965d",
   "metadata": {},
   "outputs": [],
   "source": [
    "  "
   ]
  }
 ],
 "metadata": {
  "kernelspec": {
   "display_name": "Python 3 (ipykernel)",
   "language": "python",
   "name": "python3"
  },
  "language_info": {
   "codemirror_mode": {
    "name": "ipython",
    "version": 3
   },
   "file_extension": ".py",
   "mimetype": "text/x-python",
   "name": "python",
   "nbconvert_exporter": "python",
   "pygments_lexer": "ipython3",
   "version": "3.10.12"
  }
 },
 "nbformat": 4,
 "nbformat_minor": 5
}
