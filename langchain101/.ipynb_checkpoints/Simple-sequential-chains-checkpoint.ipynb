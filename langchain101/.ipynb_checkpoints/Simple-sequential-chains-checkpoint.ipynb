{
 "cells": [
  {
   "cell_type": "code",
   "execution_count": 1,
   "id": "8adb073c",
   "metadata": {},
   "outputs": [],
   "source": [
    "from langchain import OpenAI, LLMChain, PromptTemplate\n",
    "from langchain.chains import SimpleSequentialChain\n"
   ]
  },
  {
   "cell_type": "code",
   "execution_count": 2,
   "id": "bcffb7e5",
   "metadata": {},
   "outputs": [],
   "source": [
    "from dotenv import dotenv_values"
   ]
  },
  {
   "cell_type": "code",
   "execution_count": 3,
   "id": "b6752443",
   "metadata": {},
   "outputs": [],
   "source": [
    "config = dotenv_values(\"/home/tom/two/envapi/my-env\")"
   ]
  },
  {
   "cell_type": "code",
   "execution_count": 4,
   "id": "38cb8295",
   "metadata": {},
   "outputs": [],
   "source": [
    "openai_key = config['OPENAI_API_KEY']"
   ]
  },
  {
   "cell_type": "code",
   "execution_count": 5,
   "id": "6fb614ce",
   "metadata": {},
   "outputs": [],
   "source": [
    "llm = OpenAI(\n",
    "    temperature=0.9, \n",
    "    openai_api_key=openai_key,\n",
    ")"
   ]
  },
  {
   "cell_type": "code",
   "execution_count": 6,
   "id": "303c25af",
   "metadata": {},
   "outputs": [],
   "source": [
    "template = \"What would be a good name for a company that makes {product}?\""
   ]
  },
  {
   "cell_type": "code",
   "execution_count": 11,
   "id": "6ed3d374",
   "metadata": {},
   "outputs": [
    {
     "name": "stdout",
     "output_type": "stream",
     "text": [
      "\n",
      "\n",
      "Colorful Socksations!\n"
     ]
    }
   ],
   "source": [
    "first_prompt = PromptTemplate.from_template(template)\n",
    "first_chain = LLMChain(llm=llm, prompt=first_prompt)\n",
    "#print(first_chain.run(\"colorful socks\"))"
   ]
  },
  {
   "cell_type": "code",
   "execution_count": 14,
   "id": "a14d64ab",
   "metadata": {},
   "outputs": [
    {
     "name": "stdout",
     "output_type": "stream",
     "text": [
      "\n",
      "\n",
      "\"Discover the possibilities with ABC Startup!\"\n"
     ]
    }
   ],
   "source": [
    "second_template = \"Write a catch phrase for the following company: {company_name}\"\n",
    "second_template = PromptTemplate.from_template(second_template)\n",
    "\n",
    "second_chain = LLMChain(llm=llm, prompt=second_template)\n",
    "print(second_chain.run(\"ABC Startup\"))"
   ]
  },
  {
   "cell_type": "code",
   "execution_count": 13,
   "id": "b0f9d5cc",
   "metadata": {},
   "outputs": [
    {
     "name": "stdout",
     "output_type": "stream",
     "text": [
      "\n",
      "\n",
      "\u001b[1m> Entering new SimpleSequentialChain chain...\u001b[0m\n",
      "\u001b[36;1m\u001b[1;3m\n",
      "\n",
      "RainbowSocks.\u001b[0m\n",
      "\u001b[33;1m\u001b[1;3m\n",
      "\n",
      "\"Color your world with RainbowSocks!\"\u001b[0m\n",
      "\n",
      "\u001b[1m> Finished chain.\u001b[0m\n",
      "\n",
      "\n",
      "\"Color your world with RainbowSocks!\"\n"
     ]
    }
   ],
   "source": [
    "overall_chain = SimpleSequentialChain(\n",
    "    chains=[first_chain, second_chain], \n",
    "    verbose=True\n",
    ")\n",
    "\n",
    "catchphrase = overall_chain.run(\"colorful socks\")\n",
    "\n",
    "print(catchphrase)"
   ]
  },
  {
   "cell_type": "code",
   "execution_count": null,
   "id": "a60af660",
   "metadata": {},
   "outputs": [],
   "source": []
  }
 ],
 "metadata": {
  "kernelspec": {
   "display_name": "botvenv",
   "language": "python",
   "name": "botvenv"
  },
  "language_info": {
   "codemirror_mode": {
    "name": "ipython",
    "version": 3
   },
   "file_extension": ".py",
   "mimetype": "text/x-python",
   "name": "python",
   "nbconvert_exporter": "python",
   "pygments_lexer": "ipython3",
   "version": "3.10.12"
  }
 },
 "nbformat": 4,
 "nbformat_minor": 5
}
