{
 "cells": [
  {
   "cell_type": "code",
   "execution_count": 5,
   "id": "35752047",
   "metadata": {},
   "outputs": [],
   "source": [
    "import openai\n",
    "from langchain.llms import OpenAI\n",
    "\n",
    "from dotenv import dotenv_values"
   ]
  },
  {
   "cell_type": "code",
   "execution_count": 6,
   "id": "1fad1633",
   "metadata": {},
   "outputs": [],
   "source": [
    "config = dotenv_values(\"/home/tom/two/envapi/my-env\")"
   ]
  },
  {
   "cell_type": "code",
   "execution_count": 7,
   "id": "0292d91e",
   "metadata": {},
   "outputs": [],
   "source": [
    "openai.api_key = config['OPENAI_API_KEY']"
   ]
  },
  {
   "cell_type": "code",
   "execution_count": 12,
   "id": "2e241317",
   "metadata": {},
   "outputs": [],
   "source": [
    "llm = langchain.OpenAI(\n",
    "    temperature=0.9, \n",
    "    openai_api_key=openai.api_key\n",
    ")"
   ]
  },
  {
   "cell_type": "code",
   "execution_count": 10,
   "id": "a6613744",
   "metadata": {},
   "outputs": [],
   "source": [
    "prompt = \"suggest a good name for a company that makes colorful shoes\""
   ]
  },
  {
   "cell_type": "code",
   "execution_count": 13,
   "id": "22ed6a47",
   "metadata": {},
   "outputs": [
    {
     "data": {
      "text/plain": [
       "LLMResult(generations=[[Generation(text='\\n\\nRainbow Shoes Co.', generation_info={'finish_reason': 'stop', 'logprobs': None})], [Generation(text='\\n\\nSoleful Shoes', generation_info={'finish_reason': 'stop', 'logprobs': None})], [Generation(text='\\n\\nKaleidoscope Kicks.', generation_info={'finish_reason': 'stop', 'logprobs': None})]], llm_output={'token_usage': {'total_tokens': 55, 'prompt_tokens': 33, 'completion_tokens': 22}, 'model_name': 'text-davinci-003'}, run=[RunInfo(run_id=UUID('0891e49e-1219-4e6a-9f5b-fd834c4bb920')), RunInfo(run_id=UUID('5b971e6a-2e65-440e-abc9-786da6281c03')), RunInfo(run_id=UUID('21326ea9-ce59-4cf5-ba13-f248a909239f'))])"
      ]
     },
     "execution_count": 13,
     "metadata": {},
     "output_type": "execute_result"
    }
   ],
   "source": [
    "result = llm.generate([prompt] * 3)\n",
    "result"
   ]
  },
  {
   "cell_type": "code",
   "execution_count": 38,
   "id": "e6f0ecc5",
   "metadata": {},
   "outputs": [
    {
     "name": "stdout",
     "output_type": "stream",
     "text": [
      "\n",
      "\n",
      "Rainbow Shoes Co.\n",
      "\n",
      "\n",
      "Soleful Shoes\n",
      "\n",
      "\n",
      "Kaleidoscope Kicks.\n"
     ]
    }
   ],
   "source": [
    "for company_name in result.generations:\n",
    "    print(company_name[0].text)"
   ]
  },
  {
   "cell_type": "code",
   "execution_count": 26,
   "id": "243ff7f2",
   "metadata": {},
   "outputs": [
    {
     "data": {
      "text/plain": [
       "list"
      ]
     },
     "execution_count": 26,
     "metadata": {},
     "output_type": "execute_result"
    }
   ],
   "source": [
    "type(result.generations)"
   ]
  },
  {
   "cell_type": "code",
   "execution_count": 37,
   "id": "c1180c02",
   "metadata": {},
   "outputs": [
    {
     "data": {
      "text/plain": [
       "{'finish_reason': 'stop', 'logprobs': None}"
      ]
     },
     "execution_count": 37,
     "metadata": {},
     "output_type": "execute_result"
    }
   ],
   "source": [
    "    "
   ]
  },
  {
   "cell_type": "code",
   "execution_count": null,
   "id": "c9feed3d",
   "metadata": {},
   "outputs": [],
   "source": []
  }
 ],
 "metadata": {
  "kernelspec": {
   "display_name": "botvenv",
   "language": "python",
   "name": "botvenv"
  },
  "language_info": {
   "codemirror_mode": {
    "name": "ipython",
    "version": 3
   },
   "file_extension": ".py",
   "mimetype": "text/x-python",
   "name": "python",
   "nbconvert_exporter": "python",
   "pygments_lexer": "ipython3",
   "version": "3.10.12"
  }
 },
 "nbformat": 4,
 "nbformat_minor": 5
}
