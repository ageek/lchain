{
 "cells": [
  {
   "cell_type": "code",
   "execution_count": 25,
   "id": "4374179f",
   "metadata": {},
   "outputs": [],
   "source": [
    "from dotenv import dotenv_values\n",
    "from langchain import HuggingFaceHub\n",
    "from langchain.llms import OpenAI\n",
    "from langchain.chains import LLMChain\n",
    "import openai"
   ]
  },
  {
   "cell_type": "code",
   "execution_count": 4,
   "id": "75d4baa9",
   "metadata": {},
   "outputs": [],
   "source": [
    "config = dotenv_values('/home/tom/two/envapi/my-env')"
   ]
  },
  {
   "cell_type": "code",
   "execution_count": 26,
   "id": "30a9b584",
   "metadata": {},
   "outputs": [],
   "source": [
    "openai.api_key = config['OPENAI_API_KEY']"
   ]
  },
  {
   "cell_type": "code",
   "execution_count": 5,
   "id": "e526b396",
   "metadata": {},
   "outputs": [],
   "source": [
    "hug_key = config['HUGGINGFACEHUB_API_TOKEN']"
   ]
  },
  {
   "cell_type": "code",
   "execution_count": 15,
   "id": "0ad78528",
   "metadata": {},
   "outputs": [
    {
     "name": "stderr",
     "output_type": "stream",
     "text": [
      "/home/tom/.local/lib/python3.10/site-packages/huggingface_hub/utils/_deprecation.py:127: FutureWarning: '__init__' (from 'huggingface_hub.inference_api') is deprecated and will be removed from version '0.19.0'. `InferenceApi` client is deprecated in favor of the more feature-complete `InferenceClient`. Check out this guide to learn how to convert your script to use it: https://huggingface.co/docs/huggingface_hub/guides/inference#legacy-inferenceapi-client.\n",
      "  warnings.warn(warning_message, FutureWarning)\n"
     ]
    }
   ],
   "source": [
    "llm = HuggingFaceHub(\n",
    "    huggingfacehub_api_token=hug_key, \n",
    "    repo_id='google/flan-t5-base',\n",
    "    model_kwargs={\n",
    "        \"temperature\":0.9,\n",
    "         \"max_length\":128\n",
    "    }\n",
    ")\n"
   ]
  },
  {
   "cell_type": "code",
   "execution_count": 18,
   "id": "86eb4996",
   "metadata": {},
   "outputs": [
    {
     "name": "stdout",
     "output_type": "stream",
     "text": [
      "i'm a pig\n"
     ]
    }
   ],
   "source": [
    "prompt = \"why is Peppa pig out in the forest\"\n",
    "print(llm(prompt))"
   ]
  },
  {
   "cell_type": "code",
   "execution_count": 19,
   "id": "bd372679",
   "metadata": {},
   "outputs": [],
   "source": [
    "from langchain import PromptTemplate\n"
   ]
  },
  {
   "cell_type": "code",
   "execution_count": 30,
   "id": "ad905114",
   "metadata": {},
   "outputs": [],
   "source": [
    "template = \"You are a naming consultant for new companies. What would be a good name for a {company} that makes {product}\""
   ]
  },
  {
   "cell_type": "code",
   "execution_count": 32,
   "id": "729605cd",
   "metadata": {},
   "outputs": [],
   "source": [
    "prompt = PromptTemplate.from_template(template)"
   ]
  },
  {
   "cell_type": "code",
   "execution_count": 33,
   "id": "47577c83",
   "metadata": {},
   "outputs": [
    {
     "name": "stdout",
     "output_type": "stream",
     "text": [
      "You are a naming consultant for new companies. What would be a good name for a Rainbow socks LLC that makes colorful socks\n"
     ]
    }
   ],
   "source": [
    "print(prompt.format(company= \"Rainbow socks\", product=\"colorful socks\"))"
   ]
  },
  {
   "cell_type": "code",
   "execution_count": 35,
   "id": "9fb126a6",
   "metadata": {},
   "outputs": [],
   "source": [
    "llm = OpenAI(\n",
    "    temperature=0.9, \n",
    "    openai_api_key= openai.api_key\n",
    ")\n",
    "chain = LLMChain(\n",
    "    llm=llm, \n",
    "    prompt=prompt,\n",
    ")"
   ]
  },
  {
   "cell_type": "code",
   "execution_count": 43,
   "id": "b09222ee",
   "metadata": {},
   "outputs": [
    {
     "name": "stdout",
     "output_type": "stream",
     "text": [
      "\n",
      "\n",
      "Drone Merchant Solutions.\n"
     ]
    }
   ],
   "source": [
    "print(chain.run({\"company\":\"AB startup\", \"product\":\"Drones for commercial usage\"}))"
   ]
  },
  {
   "cell_type": "code",
   "execution_count": null,
   "id": "dfa22996",
   "metadata": {},
   "outputs": [],
   "source": []
  }
 ],
 "metadata": {
  "kernelspec": {
   "display_name": "botvenv",
   "language": "python",
   "name": "botvenv"
  },
  "language_info": {
   "codemirror_mode": {
    "name": "ipython",
    "version": 3
   },
   "file_extension": ".py",
   "mimetype": "text/x-python",
   "name": "python",
   "nbconvert_exporter": "python",
   "pygments_lexer": "ipython3",
   "version": "3.10.12"
  }
 },
 "nbformat": 4,
 "nbformat_minor": 5
}
